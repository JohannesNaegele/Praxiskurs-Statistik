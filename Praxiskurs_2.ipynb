{
 "cells": [
  {
   "cell_type": "markdown",
   "metadata": {},
   "source": [
    "## PrettyTables.jl\n",
    "\n",
    "Dieses Paket erlaubt es uns, Typen wie Arrays oder Dicts in gut lesbarer Tabellenform auszugeben:"
   ]
  },
  {
   "cell_type": "code",
   "execution_count": null,
   "metadata": {},
   "outputs": [],
   "source": [
    "using Pkg; Pkg.add(\"PrettyTables\")\n",
    "using PrettyTables"
   ]
  },
  {
   "cell_type": "code",
   "execution_count": null,
   "metadata": {},
   "outputs": [],
   "source": [
    "M = rand(4,4)\n",
    "pretty_table(M)"
   ]
  },
  {
   "attachments": {},
   "cell_type": "markdown",
   "metadata": {},
   "source": [
    "Die Ausgabe kann nicht nur in der Konsole, sondern auch in HTML oder LaTeX erfolgen (praktisch für Abschlussarbeiten):"
   ]
  },
  {
   "cell_type": "code",
   "execution_count": null,
   "metadata": {},
   "outputs": [],
   "source": [
    "dict = Dict(1 => \"Jan\", 2 => \"Feb\", 3 => \"Mar\", 4 => \"Apr\", 5 => \"May\", 6 => \"Jun\");\n",
    "pretty_table(dict)"
   ]
  },
  {
   "cell_type": "code",
   "execution_count": null,
   "metadata": {},
   "outputs": [],
   "source": [
    "@ptconf(\n",
    "\tbackend = Val(:latex),\n",
    "\thighlighters = LatexHighlighter((data,i,j) -> data[i,j] > 0.5, \"textbf\"),\n",
    "\twrap_table = false,\n",
    "\talignment = :c\n",
    ")"
   ]
  },
  {
   "cell_type": "code",
   "execution_count": null,
   "metadata": {},
   "outputs": [],
   "source": [
    "@ptconfclean"
   ]
  },
  {
   "cell_type": "code",
   "execution_count": null,
   "metadata": {},
   "outputs": [],
   "source": [
    "@pt :header = [\"Player $i\" for i = 1:4] M"
   ]
  },
  {
   "cell_type": "code",
   "execution_count": null,
   "metadata": {},
   "outputs": [],
   "source": [
    "open(\"tablefile.txt\", \"w\") do io\n",
    "    pretty_table(io, M; header = [\"Player $i\" for i = 1:4])\n",
    "end"
   ]
  },
  {
   "cell_type": "markdown",
   "metadata": {},
   "source": [
    "## String-Manipulation\n",
    "\n",
    "Wir erstellen sogenannte regular expressions (regex) via *non-standard string literals*, die mit `r` beginnen:"
   ]
  },
  {
   "cell_type": "code",
   "execution_count": null,
   "metadata": {},
   "outputs": [],
   "source": [
    "re = r\"^\\s*(?:#|$)\"\n",
    "typeof(re)"
   ]
  },
  {
   "attachments": {},
   "cell_type": "markdown",
   "metadata": {},
   "source": [
    "Wir nutzen regex, um ein bestimmtes Zeichenpattern zu kodieren. Beispielsweise können wir testen, ob E-Mail-Adressen in einem String vorkommen:"
   ]
  },
  {
   "cell_type": "code",
   "execution_count": null,
   "metadata": {},
   "outputs": [],
   "source": [
    "email_pattern = r\".+@.+\"\n",
    "input = \"john.doe@mit.edu\"\n",
    "println(occursin(email_pattern, input)) #> true"
   ]
  },
  {
   "attachments": {},
   "cell_type": "markdown",
   "metadata": {},
   "source": [
    "Dieser Regex-String erfasst Kreditkartennummern, die mit der Ziffer 4 beginnen und entweder 16 Ziffern oder 13 Ziffern haben (wenn die Nummer einen 3-stelligen Sicherheitscode enthält):"
   ]
  },
  {
   "cell_type": "code",
   "execution_count": null,
   "metadata": {},
   "outputs": [],
   "source": [
    "visa = r\"^(?:4[0-9]{12}(?:[0-9]{3})?)$\"\n",
    "input = \"4457418557635128\"\n",
    "occursin(visa, input)"
   ]
  },
  {
   "cell_type": "code",
   "execution_count": null,
   "metadata": {},
   "outputs": [],
   "source": [
    "if occursin(visa, input)\n",
    "    println(\"credit card found\")\n",
    "    m = match(visa, input)\n",
    "    println(m.match)\n",
    "    println(m.offset)\n",
    "    println(m.offsets)\n",
    "end"
   ]
  },
  {
   "cell_type": "code",
   "execution_count": null,
   "metadata": {},
   "outputs": [],
   "source": [
    "visa = r\"(?:4[0-9]{12}(?:[0-9]{3})?)$\"\n",
    "input = \"foo4457418557635128\"\n",
    "occursin(visa, input)"
   ]
  },
  {
   "attachments": {},
   "cell_type": "markdown",
   "metadata": {},
   "source": [
    "- `^` Matcht den Anfang des Strings\n",
    "- `(?:...)` erstellt eine non-capturing group\n",
    "- `4` erfasst die Zahl 4\n",
    "- `[0-9]{12}` erfasst 12 Ziffern in der range 0-9\n",
    "- `(?:[0-9]{3})?` matcht 3 Ziffern in der range 0-9 optional (i.e. the security code)\n",
    "- `?` macht die non-capturing group optional\n",
    "- `$` Matcht das Ende des Strings"
   ]
  },
  {
   "attachments": {},
   "cell_type": "markdown",
   "metadata": {},
   "source": [
    "Ein anderes Beispiel wäre `\\w`, das Wortzeichen (Buchstaben, Zahlen oder Unterstriche) erfasst."
   ]
  },
  {
   "cell_type": "code",
   "execution_count": null,
   "metadata": {},
   "outputs": [],
   "source": [
    "occursin(r\"\\w the pattern\", \"string containing the pattern\")"
   ]
  },
  {
   "cell_type": "code",
   "execution_count": null,
   "metadata": {},
   "outputs": [],
   "source": [
    "occursin(r\"\\w the pattern\", \"string containin~ the pattern\")"
   ]
  },
  {
   "attachments": {},
   "cell_type": "markdown",
   "metadata": {},
   "source": [
    "Wichtige Befehle sind:\n",
    "- `occursin`\n",
    "- `match`\n",
    "- `replace`\n",
    "- `repeat`\n",
    "- `join`\n",
    "- `split`\n",
    "- `match`\n",
    "\n",
    "Zusaätzlich zur Julia-Dokumentation gibt es praktische Tools wie [RegExr](https://regexr.com/), die uns das Arbeiten mit regex erleichtern."
   ]
  },
  {
   "attachments": {},
   "cell_type": "markdown",
   "metadata": {},
   "source": [
    "## Zurück zur Datenanalyse\n",
    "\n",
    "Wir betrachten wieder den gleichen Datensatz wie in Termin 1 und laden zunächst alle dafür benötigten packages rein sowie alle ändereungen am DataFrame die wir bereits vorgenommen hatten."
   ]
  },
  {
   "cell_type": "code",
   "execution_count": null,
   "metadata": {},
   "outputs": [],
   "source": [
    "using DataFrames\n",
    "using XLSX\n",
    "using Dates \n",
    "using Plots \n",
    "using Pipe \n",
    "using Statistics"
   ]
  },
  {
   "cell_type": "code",
   "execution_count": null,
   "metadata": {},
   "outputs": [],
   "source": [
    "file_path = \"./CMO-Historical-Data-Monthly.xlsx\"\n",
    "sheet_name = \"Monthly Prices\"\n",
    "\n",
    "# Read the Excel file\n",
    "xlsx_data = XLSX.readdata(file_path, sheet_name, \"A5:BT754\")\n",
    "\n",
    "col_names = xlsx_data[1, :]\n",
    "df = DataFrame(xlsx_data[4:end, :], Symbol.(col_names))\n",
    "\n",
    "rename!(df, 1 => \"date\")\n",
    "\n",
    "function transform_missing(df)\n",
    "    for col in names(df)\n",
    "        df[!, col] = ifelse.((df[!, col] .== \"…\") .| (df[!, col] .== \"..\") , missing, df[!, col])\n",
    "    end\n",
    "end\n",
    "\n",
    "function transform_dates(date)\n",
    "    date = String.(date)\n",
    "    new_date = replace(date,\"M\" => \"-\")\n",
    "    return Date(new_date,dateformat\"yyyy-mm\")\n",
    "end \n",
    "\n",
    "transform!(df, :date  => ByRow(transform_dates),renamecols = false)\n",
    "\n",
    "transform_missing(df)\n",
    "\n",
    "first(df,10)"
   ]
  },
  {
   "attachments": {},
   "cell_type": "markdown",
   "metadata": {},
   "source": [
    "### Aufgabe 1\n",
    "Ersetze in jeder Spalte Kommata und Leerzeichen durch Unterstriche"
   ]
  },
  {
   "attachments": {},
   "cell_type": "markdown",
   "metadata": {},
   "source": [
    "## Wide vs. Long Format\n",
    "\n",
    "Datensätze werden häufig in zwei Formaten dargestellt long und wide. Bis jetzt haben wir uns nur das wide format angeschaut, in dem die Daten in Matrixform, dh das Beobachtungen über mehrere Variablen in einer Zeile dargestellt werden. Im long format wird ändert sich die zu einer Beobachtung über eine Variable.\n",
    "um von wide zu long zu gelagen benutzen wir die ``stack`` Funktion (vice versa ``unstack``)"
   ]
  },
  {
   "cell_type": "code",
   "execution_count": null,
   "metadata": {},
   "outputs": [],
   "source": [
    "df_long = stack(df)\n",
    "rename!(df_long, 2 => \"name\")\n",
    "\n",
    "#unstack(df_long,:name,:value) "
   ]
  },
  {
   "cell_type": "markdown",
   "metadata": {},
   "source": [
    "Unterschied zwischen wide und long format in der Praxis:"
   ]
  },
  {
   "cell_type": "code",
   "execution_count": null,
   "metadata": {},
   "outputs": [],
   "source": [
    "# create some example data in a wide format\n",
    "df_example = DataFrame(x=[1, 2, 3], y1=[2, 3, 4], y2=[5, 6, 7])"
   ]
  },
  {
   "cell_type": "code",
   "execution_count": null,
   "metadata": {},
   "outputs": [],
   "source": [
    "scatter(df_example.x, df_example.y1, markersize=10, label=\"Group 1\")\n",
    "scatter!(df_example.x, df_example.y2, markersize=10, label=\"Group 2\")\n",
    "# ..."
   ]
  },
  {
   "cell_type": "code",
   "execution_count": null,
   "metadata": {},
   "outputs": [],
   "source": [
    "# same data in long format\n",
    "x = repeat(1:3, inner=2)\n",
    "y = [2, 5, 3, 6, 4, 7]\n",
    "group = repeat([1, 2], outer=3)\n",
    "df_example = DataFrame(:x => x, :y => y, :group => group)"
   ]
  },
  {
   "cell_type": "code",
   "execution_count": null,
   "metadata": {},
   "outputs": [],
   "source": [
    "scatter(df_example.x, df_example.y, group=df_example.group, markersize=10, label=[\"Group 1\" \"Group 2\"])"
   ]
  },
  {
   "attachments": {},
   "cell_type": "markdown",
   "metadata": {},
   "source": [
    "## Advanced plotting\n",
    "\n",
    "Das package Plots package in Julia kann auf verschiedene backends zurückgreifen, welche die Optik als auch einige Funktionalitäten\n",
    "verändert. Eines welches für die Datenanalyse nütlich sein kann ist ``plotlyjs``. "
   ]
  },
  {
   "cell_type": "code",
   "execution_count": null,
   "metadata": {},
   "outputs": [],
   "source": [
    "plotlyjs()"
   ]
  },
  {
   "attachments": {},
   "cell_type": "markdown",
   "metadata": {},
   "source": [
    "Um zum ursprünglichen Backend zurückzukommen kann dieses analog mit ``gr()`` wieder aufgerufen werden."
   ]
  },
  {
   "cell_type": "code",
   "execution_count": null,
   "metadata": {},
   "outputs": [],
   "source": [
    "gr()\n",
    "x = df_long.date\n",
    "y = df_long.value\n",
    "\n",
    "years = [i for i in range(df_long.date[1],df_long.date[end],step = Year(5))]\n",
    "year_label = [\"$year\" for year in range(year(df_long.date[1]),year(df_long.date[end]),step = 5)]\n",
    "\n",
    "plot(x,y,\n",
    "    group = df_long.name,\n",
    "    legend = :outertopright,\n",
    "    xticks = (years,year_label),\n",
    "    xrotation = 90,\n",
    "    visible = \"legendonly\"\n",
    ")"
   ]
  },
  {
   "attachments": {},
   "cell_type": "markdown",
   "metadata": {},
   "source": [
    " In der explorativen Datenanalyse werden häufig Korrelationsplots verwendet, um eine Übersicht zu den Abhängigkeitsstrukturen der verschiedenen Merkmale zu erlangen. Hierfür importieren wir das StatsBase package um auf die Funktion ``pairwise`` zurückgreifen zu können, \n",
    " welche es uns ermöglicht Spalten paarweise auszuwählen und die Korrelationen zu berechnen."
   ]
  },
  {
   "cell_type": "code",
   "execution_count": null,
   "metadata": {},
   "outputs": [],
   "source": [
    "using Pkg; Pkg.add(\"StatsBase\")"
   ]
  },
  {
   "cell_type": "code",
   "execution_count": null,
   "metadata": {},
   "outputs": [],
   "source": [
    "using StatsBase\n",
    "df_cor = @pipe df |>  select(_, r\"Crude_oil\",\"Shrimps_Mexican\", \"Groundnuts\")\n",
    "pairwise(df_cor, eachcol(_), skipmissing = :pairwise)"
   ]
  },
  {
   "cell_type": "code",
   "execution_count": null,
   "metadata": {},
   "outputs": [],
   "source": [
    "gr(size = (600,600))\n",
    "\n",
    "colnames = names(select(df_cor, r\"Crude_oil\", \"Shrimps_Mexican\", \"Groundnuts\"))\n",
    "\n",
    "heatmap(cor(Matrix(df_cor)),\n",
    "    xticks = (1:6,colnames),\n",
    "    yticks = (1:6,colnames),\n",
    "    xrotation = 90,\n",
    "    color= cgrad([:white,:dodgerblue4]),\n",
    "    annotate = ([(j, i, text(round(df_cor[i,j],digits=3),8)) for i in 1:6 for j in 1:6]),\n",
    ")"
   ]
  },
  {
   "attachments": {},
   "cell_type": "markdown",
   "metadata": {},
   "source": [
    "Neben dem ``Plots`` package gibt es viele weitere plotting packages, die je nach Präferenz und Anwendungsfall sinnvoll sein könnten.\n",
    "Eines davon welches sich für die statistische Datenanalyse gut eignet ist das ``StatsPlot`` package und stellt eine Erweiterung zu ``Plots`` dar. [Hier](https://docs.juliaplots.org/dev/generated/statsplots/) findet ihr eine genauere Dokumentation. \n"
   ]
  },
  {
   "cell_type": "code",
   "execution_count": null,
   "metadata": {},
   "outputs": [],
   "source": [
    "using StatsPlots\n",
    "plotlyjs(size = (500,500))\n",
    "\n",
    "@df df corrplot([:Gold :Maize :Beef :Orange], \n",
    "    grid = false,\n",
    "    markercolor = :auto)"
   ]
  },
  {
   "attachments": {},
   "cell_type": "markdown",
   "metadata": {},
   "source": [
    "Auch lineare Modelle können in Julia mit geringem Aufwand gelöst werden."
   ]
  },
  {
   "cell_type": "code",
   "execution_count": null,
   "metadata": {},
   "outputs": [],
   "source": [
    "using GLM\n",
    "\n",
    "fm2 = @formula(Crude_oil_Brent ~ Crude_oil_WTI)\n",
    "\n",
    "#fm = @formula(Silver ~ Aluminum)\n",
    "model = lm(fm2, df)"
   ]
  },
  {
   "attachments": {},
   "cell_type": "markdown",
   "metadata": {},
   "source": [
    "Die Funktion berechnet hierbei den kq-Schätzer für $\\beta$ in dem Modell\n",
    "\n",
    "$Y = X \\beta + \\epsilon$,\n",
    "\n",
    "mit $\\epsilon$ ~ iid."
   ]
  },
  {
   "attachments": {},
   "cell_type": "markdown",
   "metadata": {},
   "source": [
    "### Aufgabe 2\n",
    "Erstellt einen interaktiven Korellationsplot über alle Spalten des DataFrames. "
   ]
  },
  {
   "attachments": {},
   "cell_type": "markdown",
   "metadata": {},
   "source": [
    "In der Zeitreihenanalyse werden häufig sogenannte autoregressive Modelle (AR) benutzt. Dabei ist das AR(p) Modell für $ p \\in \\N $\n",
    " definiert als\n",
    "\n",
    " $a_t = \\sum_{i=1}^p c_i a_{t-1} + \\epsilon$\n",
    " \n",
    "für (meist) unbekannte Konstanten $c_1,...,c_p \\in \\R$. Schätzt zunächst für den Preisprozess der Rohölsorte WTI ein AR(1)-Modell mittels der ``lm`` Funktion.\n",
    "\n",
    "Erweitert dann das Modell, indem ihr einen weiteren Zeitschritt der Brent Marke mit in die Schätzung aufnehmt. Kann dadurch die erklärte Varianz des Modells (angepasstes R\n",
    ") verbessert werden? Hinweis: r2()"
   ]
  },
  {
   "cell_type": "markdown",
   "metadata": {},
   "source": [
    "## Shapefiles (Geostatistik)"
   ]
  },
  {
   "cell_type": "code",
   "execution_count": null,
   "metadata": {},
   "outputs": [],
   "source": [
    "using Pkg; Pkg.add(\"Shapefile\")"
   ]
  },
  {
   "cell_type": "code",
   "execution_count": null,
   "metadata": {},
   "outputs": [],
   "source": [
    "using Shapefile, Plots\n",
    "\n",
    "# Read the Shapefile into a DataFrame\n",
    "shapes = Shapefile.Table(\"NUTS_RG_60M_2021_3035.shp\")"
   ]
  },
  {
   "cell_type": "code",
   "execution_count": null,
   "metadata": {},
   "outputs": [],
   "source": [
    "shapes |> DataFrame"
   ]
  },
  {
   "cell_type": "code",
   "execution_count": null,
   "metadata": {},
   "outputs": [],
   "source": [
    "# Create a plot of the polygons\n",
    "geoms = Shapefile.shapes(shapes)\n",
    "plotlyjs()\n",
    "plot(geoms, aspect_ratio=1)"
   ]
  },
  {
   "cell_type": "code",
   "execution_count": null,
   "metadata": {},
   "outputs": [],
   "source": [
    "shapes.CNTR_CODE"
   ]
  },
  {
   "cell_type": "code",
   "execution_count": null,
   "metadata": {},
   "outputs": [],
   "source": [
    "# die Funktion filter gibt es leider nicht, daher eigene Funktion\n",
    "function selectshapes(table)\n",
    "    geoms = empty(Shapefile.shapes(table))\n",
    "    for row in table\n",
    "        if !ismissing(row.CNTR_CODE) && row.CNTR_CODE == \"DE\"\n",
    "            push!(geoms, Shapefile.shape(row))\n",
    "        end\n",
    "    end\n",
    "    return geoms\n",
    "end\n",
    "\n",
    "@pipe shapes |> \n",
    "    selectshapes(_) |>\n",
    "    plot(_, aspect_ratio=1)"
   ]
  }
 ],
 "metadata": {
  "kernelspec": {
   "display_name": "Julia 1.10.0",
   "language": "julia",
   "name": "julia-1.10"
  },
  "language_info": {
   "file_extension": ".jl",
   "mimetype": "application/julia",
   "name": "julia",
   "version": "1.10.0"
  },
  "orig_nbformat": 4
 },
 "nbformat": 4,
 "nbformat_minor": 2
}
