{
 "cells": [
  {
   "cell_type": "markdown",
   "metadata": {},
   "source": [
    "## Praxiskurs Termin 1"
   ]
  },
  {
   "cell_type": "markdown",
   "metadata": {},
   "source": [
    "Anmerkung:\n",
    "Eine detaillierte Einführung zu DataFrames, Plotting, Piping etc. könnt ihr auf der Website des [Julia](https://github.com/JohannesNaegele/Programmierkurs-Julia) Kurses finden oder auch in folgendem Kurs zur Datenbearbeitung in Julia: [juliadatascience.io](https://juliadatascience.io/)"
   ]
  },
  {
   "cell_type": "markdown",
   "metadata": {},
   "source": [
    "#### Einführung in die Datenanalyse \n",
    "Als Beispieldatensatz betrachten wir die Entwckelung der globalen Rohstoffpreise. Die Daten sind auf der [Website](https://www.worldbank.org/en/research/commodity-markets) der Worldbank verfügbar (monatliche Preise). Zum Einlesen von Exeldateien und der Konvertierung in den Datentyp `DataFrame`, benötigen wir in Julia zunächst die folgenden beiden packages."
   ]
  },
  {
   "cell_type": "code",
   "execution_count": null,
   "metadata": {},
   "outputs": [],
   "source": [
    "using DataFrames\n",
    "using XLSX"
   ]
  },
  {
   "cell_type": "code",
   "execution_count": null,
   "metadata": {},
   "outputs": [],
   "source": [
    "file_path = \"CMO-Historical-Data-Monthly.xlsx\"\n",
    "sheet_name = \"Monthly Prices\"\n",
    "\n",
    "# Read the Excel file\n",
    "xlsx_data = XLSX.readdata(file_path, sheet_name, \"A5:BT754\")\n",
    "\n",
    "col_names = xlsx_data[1, :]\n",
    "df = DataFrame(xlsx_data[4:end, :], Symbol.(col_names))\n",
    "\n",
    "first(df, 10)"
   ]
  },
  {
   "cell_type": "markdown",
   "metadata": {},
   "source": [
    "Zunächst geben wir der ersten Spalte in dem DataFrame den namen date um in Zukunft einfacher darauf zurückzugreifen und ändern alle fehlenden Werte in dem DataFrame die durch den String ```\"…\"``` oder ````\"..\"```` gekennzeichnet sind in den Datentyp ````missing ````um  \n"
   ]
  },
  {
   "cell_type": "code",
   "execution_count": null,
   "metadata": {},
   "outputs": [],
   "source": [
    "#1 Umbennung der ersten Spalte \n",
    "rename!(df, 1 => \"date\")\n",
    "\n",
    "#2 Konvertierung in den Datentyp missing \n",
    "function transform_missing!(df)\n",
    "    for col in names(df)\n",
    "        if_missing_string(x) = x in [\"..\", \"…\"] ? missing : x\n",
    "        transform!(df, col => ByRow(if_missing_string) => col)\n",
    "    end\n",
    "end\n",
    "\n",
    "transform_missing!(df)\n",
    "\n",
    "first(df,10)"
   ]
  },
  {
   "cell_type": "markdown",
   "metadata": {},
   "source": [
    "Als letztes wollen wir die Spalte mit den Daten in ein von Julia unterstütztes Datumsformat umwandeln, um später auch die Zeitpunkte sinnvoll miteinander vergleichen zu können. Hierfür verwenden wir das package ````Date````.\n"
   ]
  },
  {
   "cell_type": "code",
   "execution_count": null,
   "metadata": {},
   "outputs": [],
   "source": [
    "using Dates \n",
    "\n",
    "function transform_dates(date)\n",
    "    date = String.(date)\n",
    "    new_date = replace(date,\"M\" => \"-\")\n",
    "    return Date(new_date,dateformat\"yyyy-mm\")\n",
    "end \n",
    "\n",
    "transform!(df, :date  => ByRow(transform_dates) ,renamecols = false)\n",
    "\n",
    "first(df,10)"
   ]
  },
  {
   "cell_type": "markdown",
   "metadata": {},
   "source": [
    "Wir können auch gezielt Abfragen an unseren Dataframe stellen un verändern. Als Beispiel lassen wir uns alle Ölpreise für die Monate ausgeben in denen die Sorte Brent unter 100$ lagen und geben diese geordnet nach Datum aus (beginnend mit dem neusten Datum)\n"
   ]
  },
  {
   "cell_type": "code",
   "execution_count": null,
   "metadata": {},
   "outputs": [],
   "source": [
    "df_oil_brent = sort(subset(df, \"Crude oil, Brent\" => x -> x .<= 100, skipmissing=true), :date, rev=true)\n",
    "\n",
    "println(first(df_oil_brent, 10))"
   ]
  },
  {
   "cell_type": "markdown",
   "metadata": {},
   "source": [
    "Falls in der Spalte Datenpunkte vom Typ ``missing`` auftauchen kann die Function ``coalesce `` hilfreich sein \n",
    "\n"
   ]
  },
  {
   "cell_type": "code",
   "execution_count": null,
   "metadata": {},
   "outputs": [],
   "source": [
    "df_oil_brent = sort(subset(transform(df, \"Crude oil, WTI\" => (x -> coalesce.(x, 0)), renamecols=false), \"Crude oil, WTI\" => x -> x .<= 100), :date, rev=true)\n",
    "\n",
    "println(first(df_oil_brent, 10))"
   ]
  },
  {
   "cell_type": "markdown",
   "metadata": {},
   "source": [
    "Der obige Code kann sehr schnell sehr unübersichtlich werden, sobald man etwas komplexere Abfragen an den Datensatz stellt. Deswegen empfielt es sich, das package ``Pipe`` zu benutzen. "
   ]
  },
  {
   "cell_type": "code",
   "execution_count": null,
   "metadata": {},
   "outputs": [],
   "source": [
    "using Pipe\n",
    "\n",
    "df_oil_brent = @pipe df |>\n",
    "    subset(_, \"Crude oil, Brent\" => (x -> x .<= 100), skipmissing=true) |>\n",
    "    sort(_, :date, rev=true) |>\n",
    "    println(first(_, 10))"
   ]
  },
  {
   "cell_type": "markdown",
   "metadata": {},
   "source": [
    "### Aufgabe 1 \n",
    "\n",
    "1. Gib die zehn höchsten Preise der Kaffeesorte Arabica aus mit dem jeweiligen Datum.\n",
    "\n",
    "2. Erstellt im Datensatz eine neue Spalte, die das Verhältnis der Preise der Kaffeesorten Arabica und Robusta beinhaltet. Was ist hier das Maximum und das Minium? Hinweis: benutze ``transform``, ``maximum``, ``minimum``.\n",
    "\n",
    "3. Bestimmt für Rohölsorten Brent und WTI den Kalendermonat (Januar bis Dezember) für den der Preis über die Jahre hinweg den höchsten Durchschnitt Datensatz hat.\n",
    "\n",
    "Hinweise: \n",
    "- mit der Funktion ``month`` aus dem package Dates erhält man den Monat aus einem Datum: `2020-02-01` wird zu `\"02\"`\n",
    "- benutze ``groupby`` und ``combine``\n",
    "- aus dem Package ``Statistics`` erhaltet ihr eine vordefinierte ``mean`` Funktion\n"
   ]
  },
  {
   "cell_type": "markdown",
   "metadata": {},
   "source": [
    "#### Einführung in Plots \n",
    "Wir können Daten mithilfe Standardpakets `` Plots`` graphisch darstellen. Hierfür geben wir uns zunächst die Preise der Rohölsorte Brent aus und formatieren diese angemessen."
   ]
  },
  {
   "cell_type": "code",
   "execution_count": null,
   "metadata": {},
   "outputs": [],
   "source": [
    "using Plots\n",
    "\n",
    "x = df.date\n",
    "y = df[:, \"Crude oil, Brent\"]\n",
    "\n",
    "# Erstelle für einen Array der beginnend mit dem ersten Datum in 5-Jahres-Abständen alle Datumswerte durchgehend\n",
    "years = [i for i in range(df.date[1], df.date[end], step=Year(5))]\n",
    "# Erstelle einen Array mit passenden labels bei dem nur die Jahreszahl angegeben wird \n",
    "year_label = [\"$year\" for year in range(year(df.date[1]), year(df.date[end]), step=5)]\n",
    "\n",
    "plot(x, y,\n",
    "    label=\"Crude oil, Brent\",\n",
    "    xlabel=\"year\",\n",
    "    ylabel=\"price in dollar \\$\",\n",
    "    xlims=extrema(x),\n",
    "    xticks=(years, year_label),\n",
    "    legend=:topleft,\n",
    ")"
   ]
  },
  {
   "cell_type": "markdown",
   "metadata": {},
   "source": [
    "#### Aufgabe 2\n",
    "1. Erstelle einen Plot, der \n",
    "- die Zeitreihen der Preise für die Rohölsorten Brent, Dubai, WTI und den Average  beinhaltet,\n",
    "- ab dem Jahr 1980 bis heute läuft und als alle fünf Jahre ein x-label hat, das nur das Jahr (statt dem vollen Datum) darstellt,\n",
    "- passende Achsen- und Legendenlabels hat,\n",
    "- ein passendes Theme verwendet.\n",
    "2. Erstelle einen zweiten Plot der die Differenz der Rohölsorten darstellt, beschrifte beide Plots sinnvoll und ordne diesen untereinander in einem einzigen Plot an. \n"
   ]
  }
 ],
 "metadata": {
  "kernelspec": {
   "display_name": "Julia 1.10.0",
   "language": "julia",
   "name": "julia-1.10"
  },
  "language_info": {
   "file_extension": ".jl",
   "mimetype": "application/julia",
   "name": "julia",
   "version": "1.10.0"
  },
  "orig_nbformat": 4
 },
 "nbformat": 4,
 "nbformat_minor": 2
}
