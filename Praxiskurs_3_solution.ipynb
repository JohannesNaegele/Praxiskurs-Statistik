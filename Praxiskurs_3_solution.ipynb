{
 "cells": [
  {
   "attachments": {},
   "cell_type": "markdown",
   "metadata": {},
   "source": [
    "## Präsentation"
   ]
  },
  {
   "attachments": {},
   "cell_type": "markdown",
   "metadata": {},
   "source": [
    "Datensatz: [``life expectancy``](https://www.kaggle.com/datasets/kumarajarshi/life-expectancy-who) \n",
    "\n",
    "Inspiration zu unterschiedlichen Fragestellungen findet ihr in der Beschreibung des Datensatzes auf kaggle."
   ]
  },
  {
   "attachments": {},
   "cell_type": "markdown",
   "metadata": {},
   "source": [
    "Datensatz: [``ImdB Movies``](https://www.kaggle.com/datasets/rounakbanik/the-movies-dataset) \n",
    "\n",
    "Fragestellungen: \n",
    "- Plot/Analyse von Rating/Einspielergebnissen nach Genre -> Gemeinsamkeiten und Unterschiede etc. \n",
    "- Einfluss von Budget auf Budget auf Einspielergebnisse -> lineare Regression + Regressionsplot \n",
    "- Heatmap über die Verteilung der Produktionsländer mithilfe von shapefiles"
   ]
  },
  {
   "cell_type": "markdown",
   "metadata": {},
   "source": [
    "Datensatz: [``house prices``](https://www.kaggle.com/competitions/house-prices-advanced-regression-techniques/data)"
   ]
  },
  {
   "attachments": {},
   "cell_type": "markdown",
   "metadata": {},
   "source": [
    "Präsentation (ca. 20 min):\n",
    "\n",
    "Erstellt zur Präsentation ein jupyter notebook (oder ähnliches) und erfüllt folgende Anforderungen: \n",
    "\n",
    "1. Vorstellen den Datensatzes \n",
    "2. Welche Fragestellung habt ihr untersucht (3-4 Fragen)\n",
    "3. Vorstellen des Data preprocessings für die Datenanalse \n",
    "4. Ergebnisse mit Code vorstellen und erklären"
   ]
  }
 ],
 "metadata": {
  "kernelspec": {
   "display_name": "Julia 1.8.4",
   "language": "julia",
   "name": "julia-1.8"
  },
  "language_info": {
   "file_extension": ".jl",
   "mimetype": "application/julia",
   "name": "julia",
   "version": "1.8.4"
  },
  "orig_nbformat": 4
 },
 "nbformat": 4,
 "nbformat_minor": 2
}
